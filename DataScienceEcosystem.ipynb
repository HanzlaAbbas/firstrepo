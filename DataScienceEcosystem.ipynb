{
 "cells": [
  {
   "cell_type": "markdown",
   "id": "8882c55f",
   "metadata": {},
   "source": [
    "# Data Science Tools & Ecosystem"
   ]
  },
  {
   "cell_type": "markdown",
   "id": "1929e379",
   "metadata": {},
   "source": [
    "In this notebook, Data Science Tools and Ecosystem are summarized."
   ]
  },
  {
   "cell_type": "markdown",
   "id": "83387f8f",
   "metadata": {},
   "source": [
    "__Objectives:__\n",
    "- Commonly used libraries used by Data Scientists\n",
    "- Data Science Tools\n",
    "- Examples of evaluating arithmetic expressions\n",
    "- Simple arithmetic expression to multiply then add integer\n",
    "- 200 minutes to hours"
   ]
  },
  {
   "cell_type": "markdown",
   "id": "039977b0",
   "metadata": {},
   "source": [
    "## Author:\n",
    "Hanzla Abbas"
   ]
  },
  {
   "cell_type": "markdown",
   "id": "8c2e1805",
   "metadata": {},
   "source": [
    "Some of the commonly used libraries used by Data Scientists include:\n",
    "1. ggplot\n",
    "2. plotly\n",
    "3. Leaflet"
   ]
  },
  {
   "cell_type": "markdown",
   "id": "2574cf9d",
   "metadata": {},
   "source": [
    "|Data Science Tools|\n",
    "|--------|\n",
    "| Jupyter Notebook |\n",
    "| Apache Zeppelin|\n",
    "|RStudio|"
   ]
  },
  {
   "cell_type": "markdown",
   "id": "ebb219be",
   "metadata": {},
   "source": [
    "### Below are a few examples of evaluating arithmetic expressions in Python\n",
    "Arithmetic expressions are used to perform mathematical operations in programming. Python provides a number of arithmetic operators, including: \n",
    "- addition (+)\n",
    "- subtraction (-) \n",
    "- multiplication (*)\n",
    "- division (/)\n",
    "- modulus (%). \n",
    "These operators can be used to create complex expressions that evaluate to a numerical value."
   ]
  },
  {
   "cell_type": "code",
   "execution_count": 4,
   "id": "6a10bdd3",
   "metadata": {},
   "outputs": [
    {
     "data": {
      "text/plain": [
       "17"
      ]
     },
     "execution_count": 4,
     "metadata": {},
     "output_type": "execute_result"
    }
   ],
   "source": [
    "# This is a simple arithmetic expression to multiply then add integer\n",
    "(3*4)+5"
   ]
  },
  {
   "cell_type": "code",
   "execution_count": 5,
   "id": "b5253ec6",
   "metadata": {},
   "outputs": [
    {
     "data": {
      "text/plain": [
       "3.3333333333333335"
      ]
     },
     "execution_count": 5,
     "metadata": {},
     "output_type": "execute_result"
    }
   ],
   "source": [
    "# This will convert 200 minutes to hours by diving by 60\n",
    "200 / 60"
   ]
  },
  {
   "cell_type": "code",
   "execution_count": null,
   "id": "07f4dcc1",
   "metadata": {},
   "outputs": [],
   "source": []
  }
 ],
 "metadata": {
  "kernelspec": {
   "display_name": "Python 3 (ipykernel)",
   "language": "python",
   "name": "python3"
  },
  "language_info": {
   "codemirror_mode": {
    "name": "ipython",
    "version": 3
   },
   "file_extension": ".py",
   "mimetype": "text/x-python",
   "name": "python",
   "nbconvert_exporter": "python",
   "pygments_lexer": "ipython3",
   "version": "3.10.9"
  }
 },
 "nbformat": 4,
 "nbformat_minor": 5
}
